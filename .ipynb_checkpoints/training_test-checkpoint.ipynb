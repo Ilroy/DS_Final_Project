{
 "cells": [
  {
   "cell_type": "code",
   "execution_count": 1,
   "metadata": {},
   "outputs": [],
   "source": [
    "import pandas as pd\n",
    "import numpy as np\n",
    "from sklearn.linear_model import LinearRegression\n",
    "from sklearn.metrics import mean_squared_error\n",
    "from sklearn.preprocessing import Imputer\n",
    "from sklearn.ensemble import RandomForestRegressor"
   ]
  },
  {
   "cell_type": "code",
   "execution_count": 3,
   "metadata": {},
   "outputs": [],
   "source": [
    "train_df = pd.read_csv('Datasets/SE_rents2018_train.csv', index_col=0)\n",
    "test_df = pd.read_csv('Datasets/SE_rents2018_test1.csv', index_col=0)\n",
    "submit1_df = pd.read_csv('Datasets/SE_rents2018_test2.csv', index_col=0)\n",
    "# submit2_df = pd.read_csv('https://grantmlong.com/data/SE_rents2018_test3.csv', index_col=0)"
   ]
  },
  {
   "cell_type": "code",
   "execution_count": 4,
   "metadata": {},
   "outputs": [
    {
     "data": {
      "text/html": [
       "<div>\n",
       "<style scoped>\n",
       "    .dataframe tbody tr th:only-of-type {\n",
       "        vertical-align: middle;\n",
       "    }\n",
       "\n",
       "    .dataframe tbody tr th {\n",
       "        vertical-align: top;\n",
       "    }\n",
       "\n",
       "    .dataframe thead th {\n",
       "        text-align: right;\n",
       "    }\n",
       "</style>\n",
       "<table border=\"1\" class=\"dataframe\">\n",
       "  <thead>\n",
       "    <tr style=\"text-align: right;\">\n",
       "      <th></th>\n",
       "      <th>building_id</th>\n",
       "      <th>bedrooms</th>\n",
       "      <th>bathrooms</th>\n",
       "      <th>size_sqft</th>\n",
       "      <th>addr_zip</th>\n",
       "      <th>addr_lat</th>\n",
       "      <th>addr_lon</th>\n",
       "      <th>bin</th>\n",
       "      <th>bbl</th>\n",
       "      <th>floor_count</th>\n",
       "      <th>...</th>\n",
       "      <th>has_washer_dryer</th>\n",
       "      <th>has_garage</th>\n",
       "      <th>has_roofdeck</th>\n",
       "      <th>has_concierge</th>\n",
       "      <th>has_pool</th>\n",
       "      <th>has_garden</th>\n",
       "      <th>has_childrens_playroom</th>\n",
       "      <th>rent</th>\n",
       "      <th>no_fee</th>\n",
       "      <th>floornumber</th>\n",
       "    </tr>\n",
       "  </thead>\n",
       "  <tbody>\n",
       "    <tr>\n",
       "      <th>count</th>\n",
       "      <td>2.000000e+03</td>\n",
       "      <td>2000.000000</td>\n",
       "      <td>2000.000000</td>\n",
       "      <td>2000.000000</td>\n",
       "      <td>2000.000000</td>\n",
       "      <td>2000.000000</td>\n",
       "      <td>2000.000000</td>\n",
       "      <td>2.000000e+03</td>\n",
       "      <td>2.000000e+03</td>\n",
       "      <td>2000.000000</td>\n",
       "      <td>...</td>\n",
       "      <td>2000.000000</td>\n",
       "      <td>2000.000000</td>\n",
       "      <td>2000.000000</td>\n",
       "      <td>2000.000000</td>\n",
       "      <td>2000.000000</td>\n",
       "      <td>2000.00000</td>\n",
       "      <td>2000.000000</td>\n",
       "      <td>0.0</td>\n",
       "      <td>2000.000000</td>\n",
       "      <td>1737.000000</td>\n",
       "    </tr>\n",
       "    <tr>\n",
       "      <th>mean</th>\n",
       "      <td>1.688109e+06</td>\n",
       "      <td>1.688000</td>\n",
       "      <td>1.226500</td>\n",
       "      <td>833.983000</td>\n",
       "      <td>10684.993500</td>\n",
       "      <td>40.726794</td>\n",
       "      <td>-73.957842</td>\n",
       "      <td>2.361318e+06</td>\n",
       "      <td>2.278957e+09</td>\n",
       "      <td>9.790900</td>\n",
       "      <td>...</td>\n",
       "      <td>0.270500</td>\n",
       "      <td>0.162500</td>\n",
       "      <td>0.254500</td>\n",
       "      <td>0.197000</td>\n",
       "      <td>0.072500</td>\n",
       "      <td>0.13850</td>\n",
       "      <td>0.088500</td>\n",
       "      <td>NaN</td>\n",
       "      <td>0.525000</td>\n",
       "      <td>6.048647</td>\n",
       "    </tr>\n",
       "    <tr>\n",
       "      <th>std</th>\n",
       "      <td>4.611790e+06</td>\n",
       "      <td>1.094648</td>\n",
       "      <td>0.509242</td>\n",
       "      <td>492.945515</td>\n",
       "      <td>589.143729</td>\n",
       "      <td>0.056451</td>\n",
       "      <td>0.042068</td>\n",
       "      <td>1.223083e+06</td>\n",
       "      <td>1.181451e+09</td>\n",
       "      <td>11.957536</td>\n",
       "      <td>...</td>\n",
       "      <td>0.444329</td>\n",
       "      <td>0.369001</td>\n",
       "      <td>0.435689</td>\n",
       "      <td>0.397832</td>\n",
       "      <td>0.259379</td>\n",
       "      <td>0.34551</td>\n",
       "      <td>0.284092</td>\n",
       "      <td>NaN</td>\n",
       "      <td>0.499499</td>\n",
       "      <td>7.612185</td>\n",
       "    </tr>\n",
       "    <tr>\n",
       "      <th>min</th>\n",
       "      <td>1.780000e+02</td>\n",
       "      <td>0.000000</td>\n",
       "      <td>0.000000</td>\n",
       "      <td>0.000000</td>\n",
       "      <td>10001.000000</td>\n",
       "      <td>40.575849</td>\n",
       "      <td>-74.166298</td>\n",
       "      <td>1.000000e+06</td>\n",
       "      <td>1.000158e+09</td>\n",
       "      <td>0.000000</td>\n",
       "      <td>...</td>\n",
       "      <td>0.000000</td>\n",
       "      <td>0.000000</td>\n",
       "      <td>0.000000</td>\n",
       "      <td>0.000000</td>\n",
       "      <td>0.000000</td>\n",
       "      <td>0.00000</td>\n",
       "      <td>0.000000</td>\n",
       "      <td>NaN</td>\n",
       "      <td>0.000000</td>\n",
       "      <td>0.000000</td>\n",
       "    </tr>\n",
       "    <tr>\n",
       "      <th>25%</th>\n",
       "      <td>6.491575e+04</td>\n",
       "      <td>1.000000</td>\n",
       "      <td>1.000000</td>\n",
       "      <td>600.000000</td>\n",
       "      <td>10023.000000</td>\n",
       "      <td>40.690963</td>\n",
       "      <td>-73.985497</td>\n",
       "      <td>1.055487e+06</td>\n",
       "      <td>1.011630e+09</td>\n",
       "      <td>3.000000</td>\n",
       "      <td>...</td>\n",
       "      <td>0.000000</td>\n",
       "      <td>0.000000</td>\n",
       "      <td>0.000000</td>\n",
       "      <td>0.000000</td>\n",
       "      <td>0.000000</td>\n",
       "      <td>0.00000</td>\n",
       "      <td>0.000000</td>\n",
       "      <td>NaN</td>\n",
       "      <td>0.000000</td>\n",
       "      <td>2.000000</td>\n",
       "    </tr>\n",
       "    <tr>\n",
       "      <th>50%</th>\n",
       "      <td>2.608300e+05</td>\n",
       "      <td>2.000000</td>\n",
       "      <td>1.000000</td>\n",
       "      <td>800.000000</td>\n",
       "      <td>11103.000000</td>\n",
       "      <td>40.726669</td>\n",
       "      <td>-73.961599</td>\n",
       "      <td>3.021102e+06</td>\n",
       "      <td>3.009320e+09</td>\n",
       "      <td>5.000000</td>\n",
       "      <td>...</td>\n",
       "      <td>0.000000</td>\n",
       "      <td>0.000000</td>\n",
       "      <td>0.000000</td>\n",
       "      <td>0.000000</td>\n",
       "      <td>0.000000</td>\n",
       "      <td>0.00000</td>\n",
       "      <td>0.000000</td>\n",
       "      <td>NaN</td>\n",
       "      <td>1.000000</td>\n",
       "      <td>3.000000</td>\n",
       "    </tr>\n",
       "    <tr>\n",
       "      <th>75%</th>\n",
       "      <td>7.277568e+05</td>\n",
       "      <td>2.000000</td>\n",
       "      <td>1.000000</td>\n",
       "      <td>1000.000000</td>\n",
       "      <td>11217.000000</td>\n",
       "      <td>40.766491</td>\n",
       "      <td>-73.938455</td>\n",
       "      <td>3.200882e+06</td>\n",
       "      <td>3.049853e+09</td>\n",
       "      <td>9.000000</td>\n",
       "      <td>...</td>\n",
       "      <td>1.000000</td>\n",
       "      <td>0.000000</td>\n",
       "      <td>1.000000</td>\n",
       "      <td>0.000000</td>\n",
       "      <td>0.000000</td>\n",
       "      <td>0.00000</td>\n",
       "      <td>0.000000</td>\n",
       "      <td>NaN</td>\n",
       "      <td>1.000000</td>\n",
       "      <td>6.000000</td>\n",
       "    </tr>\n",
       "    <tr>\n",
       "      <th>max</th>\n",
       "      <td>1.877216e+07</td>\n",
       "      <td>6.000000</td>\n",
       "      <td>5.000000</td>\n",
       "      <td>5139.000000</td>\n",
       "      <td>11693.000000</td>\n",
       "      <td>40.909842</td>\n",
       "      <td>-73.750141</td>\n",
       "      <td>5.166556e+06</td>\n",
       "      <td>5.016020e+09</td>\n",
       "      <td>90.000000</td>\n",
       "      <td>...</td>\n",
       "      <td>1.000000</td>\n",
       "      <td>1.000000</td>\n",
       "      <td>1.000000</td>\n",
       "      <td>1.000000</td>\n",
       "      <td>1.000000</td>\n",
       "      <td>1.00000</td>\n",
       "      <td>1.000000</td>\n",
       "      <td>NaN</td>\n",
       "      <td>1.000000</td>\n",
       "      <td>63.000000</td>\n",
       "    </tr>\n",
       "  </tbody>\n",
       "</table>\n",
       "<p>8 rows × 29 columns</p>\n",
       "</div>"
      ],
      "text/plain": [
       "        building_id     bedrooms    bathrooms    size_sqft      addr_zip  \\\n",
       "count  2.000000e+03  2000.000000  2000.000000  2000.000000   2000.000000   \n",
       "mean   1.688109e+06     1.688000     1.226500   833.983000  10684.993500   \n",
       "std    4.611790e+06     1.094648     0.509242   492.945515    589.143729   \n",
       "min    1.780000e+02     0.000000     0.000000     0.000000  10001.000000   \n",
       "25%    6.491575e+04     1.000000     1.000000   600.000000  10023.000000   \n",
       "50%    2.608300e+05     2.000000     1.000000   800.000000  11103.000000   \n",
       "75%    7.277568e+05     2.000000     1.000000  1000.000000  11217.000000   \n",
       "max    1.877216e+07     6.000000     5.000000  5139.000000  11693.000000   \n",
       "\n",
       "          addr_lat     addr_lon           bin           bbl  floor_count  ...  \\\n",
       "count  2000.000000  2000.000000  2.000000e+03  2.000000e+03  2000.000000  ...   \n",
       "mean     40.726794   -73.957842  2.361318e+06  2.278957e+09     9.790900  ...   \n",
       "std       0.056451     0.042068  1.223083e+06  1.181451e+09    11.957536  ...   \n",
       "min      40.575849   -74.166298  1.000000e+06  1.000158e+09     0.000000  ...   \n",
       "25%      40.690963   -73.985497  1.055487e+06  1.011630e+09     3.000000  ...   \n",
       "50%      40.726669   -73.961599  3.021102e+06  3.009320e+09     5.000000  ...   \n",
       "75%      40.766491   -73.938455  3.200882e+06  3.049853e+09     9.000000  ...   \n",
       "max      40.909842   -73.750141  5.166556e+06  5.016020e+09    90.000000  ...   \n",
       "\n",
       "       has_washer_dryer   has_garage  has_roofdeck  has_concierge  \\\n",
       "count       2000.000000  2000.000000   2000.000000    2000.000000   \n",
       "mean           0.270500     0.162500      0.254500       0.197000   \n",
       "std            0.444329     0.369001      0.435689       0.397832   \n",
       "min            0.000000     0.000000      0.000000       0.000000   \n",
       "25%            0.000000     0.000000      0.000000       0.000000   \n",
       "50%            0.000000     0.000000      0.000000       0.000000   \n",
       "75%            1.000000     0.000000      1.000000       0.000000   \n",
       "max            1.000000     1.000000      1.000000       1.000000   \n",
       "\n",
       "          has_pool  has_garden  has_childrens_playroom  rent       no_fee  \\\n",
       "count  2000.000000  2000.00000             2000.000000   0.0  2000.000000   \n",
       "mean      0.072500     0.13850                0.088500   NaN     0.525000   \n",
       "std       0.259379     0.34551                0.284092   NaN     0.499499   \n",
       "min       0.000000     0.00000                0.000000   NaN     0.000000   \n",
       "25%       0.000000     0.00000                0.000000   NaN     0.000000   \n",
       "50%       0.000000     0.00000                0.000000   NaN     1.000000   \n",
       "75%       0.000000     0.00000                0.000000   NaN     1.000000   \n",
       "max       1.000000     1.00000                1.000000   NaN     1.000000   \n",
       "\n",
       "       floornumber  \n",
       "count  1737.000000  \n",
       "mean      6.048647  \n",
       "std       7.612185  \n",
       "min       0.000000  \n",
       "25%       2.000000  \n",
       "50%       3.000000  \n",
       "75%       6.000000  \n",
       "max      63.000000  \n",
       "\n",
       "[8 rows x 29 columns]"
      ]
     },
     "execution_count": 4,
     "metadata": {},
     "output_type": "execute_result"
    }
   ],
   "source": [
    "submit1_df.describe()"
   ]
  },
  {
   "cell_type": "code",
   "execution_count": 5,
   "metadata": {},
   "outputs": [
    {
     "name": "stdout",
     "output_type": "stream",
     "text": [
      "Rent is Null:  2000\n",
      "size_sqft is 0:  177\n",
      "Doesnt have a bed rooms:  253\n",
      "Doesnt have bathroom:  1\n"
     ]
    }
   ],
   "source": [
    "print(\"Rent is Null: \",submit1_df['rent'].isnull().sum())\n",
    "print(\"size_sqft is 0: \",(submit1_df['size_sqft']==0).sum())\n",
    "print(\"Doesnt have a bed rooms: \",(submit1_df['bedrooms']==0).sum())\n",
    "print(\"Doesnt have bathroom: \",(submit1_df['bathrooms']==0).sum())"
   ]
  },
  {
   "cell_type": "code",
   "execution_count": 6,
   "metadata": {},
   "outputs": [
    {
     "name": "stdout",
     "output_type": "stream",
     "text": [
      "Null value in data set:  addr_unit                   91\n",
      "building_id                  0\n",
      "bedrooms                     0\n",
      "bathrooms                    0\n",
      "size_sqft                    0\n",
      "created_at                   0\n",
      "addr_street                  0\n",
      "addr_city                    0\n",
      "addr_zip                     0\n",
      "addr_lat                     0\n",
      "addr_lon                     0\n",
      "bin                          1\n",
      "bbl                          0\n",
      "floor_count                  0\n",
      "year_built                 403\n",
      "min_to_subway              126\n",
      "has_doorman                  0\n",
      "has_elevator                 0\n",
      "has_fireplace                0\n",
      "has_dishwasher               0\n",
      "is_furnished                 0\n",
      "has_gym                      0\n",
      "allows_pets                  0\n",
      "has_washer_dryer             0\n",
      "has_garage                   0\n",
      "has_roofdeck                 0\n",
      "has_concierge                0\n",
      "has_pool                     0\n",
      "has_garden                   0\n",
      "has_childrens_playroom       0\n",
      "rent                         0\n",
      "no_fee                       0\n",
      "description                 15\n",
      "neighborhood                 3\n",
      "borough                      0\n",
      "unit                        95\n",
      "floornumber               1277\n",
      "line                      3524\n",
      "dtype: int64\n",
      "\n",
      "\n",
      "Number of data:  (12000, 38)\n",
      "Rent is Null:  0\n",
      "size_sqft is 0:  841\n",
      "Doesnt have a bed rooms:  1556\n",
      "Doesnt have bathroom:  4\n"
     ]
    }
   ],
   "source": [
    "print(\"Null value in data set: \", train_df.isnull().sum())\n",
    "print(\"\\n\\nNumber of data: \", train_df.shape)\n",
    "print(\"Rent is Null: \",train_df['rent'].isnull().sum())\n",
    "print(\"size_sqft is 0: \",(train_df['size_sqft']==0).sum())\n",
    "print(\"Doesnt have a bed rooms: \",(train_df['bedrooms']==0).sum())\n",
    "print(\"Doesnt have bathroom: \",(train_df['bathrooms']==0).sum())"
   ]
  },
  {
   "cell_type": "markdown",
   "metadata": {},
   "source": [
    "### Original Test Set Without Modification\n",
    "#### Feature:\n",
    "1. bedrooms\n",
    "2. year_built\n",
    "3. bathrooms\n",
    "4. min_to_subway\n",
    "5. size_sqft\n",
    "6. no_fee\n",
    "7. has_doorman"
   ]
  },
  {
   "cell_type": "code",
   "execution_count": 7,
   "metadata": {},
   "outputs": [
    {
     "name": "stderr",
     "output_type": "stream",
     "text": [
      "C:\\Users\\lamtr\\Anaconda3\\lib\\site-packages\\sklearn\\ensemble\\forest.py:246: FutureWarning: The default value of n_estimators will change from 10 in version 0.20 to 100 in 0.22.\n",
      "  \"10 in version 0.20 to 100 in 0.22.\", FutureWarning)\n"
     ]
    },
    {
     "data": {
      "text/plain": [
       "2701143.227707072"
      ]
     },
     "execution_count": 7,
     "metadata": {},
     "output_type": "execute_result"
    }
   ],
   "source": [
    "feature_cols = [\n",
    "    'bedrooms', 'year_built', 'bathrooms', 'min_to_subway', \n",
    "    'size_sqft', 'no_fee', 'has_doorman'\n",
    "]\n",
    "train_features = train_df[feature_cols] \n",
    "\n",
    "# impute missing values with medians\n",
    "train_features = train_features.fillna(train_features.median(), axis=0)\n",
    "\n",
    "# construct target vector\n",
    "train_target = train_df['rent']\n",
    "\n",
    "lreg = LinearRegression()\n",
    "lreg.fit(train_features, train_target)\n",
    "\n",
    "rf = RandomForestRegressor()\n",
    "rf.fit(train_features, train_target)\n",
    "\n",
    "test_features = test_df[feature_cols] \n",
    "\n",
    "# impute missing values with medians\n",
    "test_features = test_features.fillna(train_features.median(), axis=0)\n",
    "\n",
    "# construct predictions \n",
    "test_df['predicted'] = rf.predict(test_features)\n",
    "\n",
    "mean_squared_error(test_df['rent'], test_df['predicted'])"
   ]
  },
  {
   "cell_type": "markdown",
   "metadata": {},
   "source": [
    "### Impute \"size_sqrt\" with mean\n",
    "#### Feature:\n",
    "1. bedrooms\n",
    "2. year_built\n",
    "3. bathrooms\n",
    "4. min_to_subway\n",
    "5. size_sqft\n",
    "6. no_fee\n",
    "7. has_doorman"
   ]
  },
  {
   "cell_type": "code",
   "execution_count": 8,
   "metadata": {},
   "outputs": [],
   "source": [
    "train_df['size_sqft'].replace(0, np.nan, inplace= True)\n",
    "\n",
    "mean_value=train_df['size_sqft'].mean()\n",
    "train_df['size_sqft']=train_df['size_sqft'].fillna(mean_value)"
   ]
  },
  {
   "cell_type": "code",
   "execution_count": 9,
   "metadata": {},
   "outputs": [
    {
     "name": "stderr",
     "output_type": "stream",
     "text": [
      "C:\\Users\\lamtr\\Anaconda3\\lib\\site-packages\\sklearn\\ensemble\\forest.py:246: FutureWarning: The default value of n_estimators will change from 10 in version 0.20 to 100 in 0.22.\n",
      "  \"10 in version 0.20 to 100 in 0.22.\", FutureWarning)\n"
     ]
    },
    {
     "data": {
      "text/plain": [
       "2449004.457535808"
      ]
     },
     "execution_count": 9,
     "metadata": {},
     "output_type": "execute_result"
    }
   ],
   "source": [
    "feature_cols = [\n",
    "    'bedrooms', 'year_built', 'bathrooms', 'min_to_subway', \n",
    "    'size_sqft', 'no_fee', 'has_doorman'\n",
    "]\n",
    "train_features = train_df[feature_cols] \n",
    "\n",
    "# impute missing values with medians\n",
    "train_features = train_features.fillna(train_features.median(), axis=0)\n",
    "\n",
    "# construct target vector\n",
    "train_target = train_df['rent']\n",
    "\n",
    "lreg = LinearRegression()\n",
    "lreg.fit(train_features, train_target)\n",
    "\n",
    "rf = RandomForestRegressor()\n",
    "rf.fit(train_features, train_target)\n",
    "\n",
    "test_features = test_df[feature_cols] \n",
    "\n",
    "# impute missing values with medians\n",
    "test_features = test_features.fillna(train_features.median(), axis=0)\n",
    "\n",
    "# construct predictions \n",
    "test_df['predicted'] = rf.predict(test_features)\n",
    "\n",
    "mean_squared_error(test_df['rent'], test_df['predicted'])"
   ]
  },
  {
   "cell_type": "markdown",
   "metadata": {},
   "source": [
    "## Impute \"min_to_subway\" with mean + imputed \"size_sqrt\"\n",
    "#### Feature:\n",
    "1. bedrooms\n",
    "2. year_built\n",
    "3. bathrooms\n",
    "4. min_to_subway\n",
    "5. size_sqft\n",
    "6. no_fee\n",
    "7. has_doorman"
   ]
  },
  {
   "cell_type": "code",
   "execution_count": 10,
   "metadata": {},
   "outputs": [],
   "source": [
    "#Impute \"min_to_subway\"\n",
    "train_df['min_to_subway'].replace(0, np.nan, inplace= True)\n",
    "mean_value=train_df['min_to_subway'].mean()\n",
    "train_df['min_to_subway']=train_df['min_to_subway'].fillna(mean_value)"
   ]
  },
  {
   "cell_type": "code",
   "execution_count": 11,
   "metadata": {},
   "outputs": [
    {
     "name": "stderr",
     "output_type": "stream",
     "text": [
      "C:\\Users\\lamtr\\Anaconda3\\lib\\site-packages\\sklearn\\ensemble\\forest.py:246: FutureWarning: The default value of n_estimators will change from 10 in version 0.20 to 100 in 0.22.\n",
      "  \"10 in version 0.20 to 100 in 0.22.\", FutureWarning)\n"
     ]
    },
    {
     "data": {
      "text/plain": [
       "2520210.2518225485"
      ]
     },
     "execution_count": 11,
     "metadata": {},
     "output_type": "execute_result"
    }
   ],
   "source": [
    "feature_cols = [\n",
    "    'bedrooms', 'year_built', 'bathrooms', 'min_to_subway', \n",
    "    'size_sqft', 'no_fee', 'has_doorman'\n",
    "]\n",
    "train_features = train_df[feature_cols] \n",
    "\n",
    "# impute missing values with medians\n",
    "train_features = train_features.fillna(train_features.median(), axis=0)\n",
    "\n",
    "# construct target vector\n",
    "train_target = train_df['rent']\n",
    "\n",
    "lreg = LinearRegression()\n",
    "lreg.fit(train_features, train_target)\n",
    "\n",
    "rf = RandomForestRegressor()\n",
    "rf.fit(train_features, train_target)\n",
    "\n",
    "test_features = test_df[feature_cols] \n",
    "\n",
    "# impute missing values with medians\n",
    "test_features = test_features.fillna(train_features.median(), axis=0)\n",
    "\n",
    "# construct predictions \n",
    "test_df['predicted'] = rf.predict(test_features)\n",
    "\n",
    "mean_squared_error(test_df['rent'], test_df['predicted'])"
   ]
  },
  {
   "cell_type": "markdown",
   "metadata": {},
   "source": [
    "### Add \"floornumber\" feature +imputed \"min_to_subway\" and \"size_sqft\"\n",
    "#### Feature:\n",
    "1. bedrooms\n",
    "2. year_built\n",
    "3. bathrooms\n",
    "4. min_to_subway\n",
    "5. size_sqft\n",
    "6. no_fee\n",
    "7. has_doorman\n",
    "8. floornumber"
   ]
  },
  {
   "cell_type": "code",
   "execution_count": 12,
   "metadata": {},
   "outputs": [
    {
     "name": "stderr",
     "output_type": "stream",
     "text": [
      "C:\\Users\\lamtr\\Anaconda3\\lib\\site-packages\\sklearn\\ensemble\\forest.py:246: FutureWarning: The default value of n_estimators will change from 10 in version 0.20 to 100 in 0.22.\n",
      "  \"10 in version 0.20 to 100 in 0.22.\", FutureWarning)\n"
     ]
    },
    {
     "data": {
      "text/plain": [
       "2285899.437293435"
      ]
     },
     "execution_count": 12,
     "metadata": {},
     "output_type": "execute_result"
    }
   ],
   "source": [
    "feature_cols = [\n",
    "    'bedrooms', 'year_built', 'bathrooms', 'min_to_subway', \n",
    "    'size_sqft', 'no_fee', 'has_doorman', 'floornumber'\n",
    "]\n",
    "train_features = train_df[feature_cols] \n",
    "\n",
    "# impute missing values with medians\n",
    "train_features = train_features.fillna(train_features.median(), axis=0)\n",
    "\n",
    "# construct target vector\n",
    "train_target = train_df['rent']\n",
    "\n",
    "lreg = LinearRegression()\n",
    "lreg.fit(train_features, train_target)\n",
    "\n",
    "rf = RandomForestRegressor()\n",
    "rf.fit(train_features, train_target)\n",
    "\n",
    "test_features = test_df[feature_cols] \n",
    "\n",
    "# impute missing values with medians\n",
    "test_features = test_features.fillna(train_features.median(), axis=0)\n",
    "\n",
    "# construct predictions \n",
    "test_df['predicted'] = rf.predict(test_features)\n",
    "\n",
    "mean_squared_error(test_df['rent'], test_df['predicted'])"
   ]
  },
  {
   "cell_type": "code",
   "execution_count": 13,
   "metadata": {},
   "outputs": [],
   "source": [
    "#Impute \"floornumber\"\n",
    "train_df['floornumber'].replace(0, np.nan, inplace= True)\n",
    "mean_value=train_df['floornumber'].mean()\n",
    "train_df['floornumber']=train_df['floornumber'].fillna(mean_value)"
   ]
  },
  {
   "cell_type": "code",
   "execution_count": 14,
   "metadata": {},
   "outputs": [
    {
     "name": "stderr",
     "output_type": "stream",
     "text": [
      "C:\\Users\\lamtr\\Anaconda3\\lib\\site-packages\\sklearn\\ensemble\\forest.py:246: FutureWarning: The default value of n_estimators will change from 10 in version 0.20 to 100 in 0.22.\n",
      "  \"10 in version 0.20 to 100 in 0.22.\", FutureWarning)\n"
     ]
    },
    {
     "data": {
      "text/plain": [
       "2413456.579933031"
      ]
     },
     "execution_count": 14,
     "metadata": {},
     "output_type": "execute_result"
    }
   ],
   "source": [
    "feature_cols = [\n",
    "    'bedrooms', 'year_built', 'bathrooms', 'min_to_subway', \n",
    "    'size_sqft', 'no_fee', 'has_doorman', 'floornumber'\n",
    "]\n",
    "train_features = train_df[feature_cols] \n",
    "\n",
    "# impute missing values with medians\n",
    "train_features = train_features.fillna(train_features.median(), axis=0)\n",
    "\n",
    "# construct target vector\n",
    "train_target = train_df['rent']\n",
    "\n",
    "lreg = LinearRegression()\n",
    "lreg.fit(train_features, train_target)\n",
    "\n",
    "rf = RandomForestRegressor()\n",
    "rf.fit(train_features, train_target)\n",
    "\n",
    "test_features = test_df[feature_cols] \n",
    "\n",
    "# impute missing values with medians\n",
    "test_features = test_features.fillna(train_features.median(), axis=0)\n",
    "\n",
    "# construct predictions \n",
    "test_df['predicted'] = rf.predict(test_features)\n",
    "\n",
    "mean_squared_error(test_df['rent'], test_df['predicted'])"
   ]
  },
  {
   "cell_type": "markdown",
   "metadata": {},
   "source": [
    "### Add addr_lat, addr_lon\n",
    "#### Feature:\n",
    "1. bedrooms\n",
    "2. year_built\n",
    "3. bathrooms\n",
    "4. min_to_subway\n",
    "5. size_sqft\n",
    "6. no_fee\n",
    "7. has_doorman\n",
    "8. floornumber\n",
    "9. addr_lat\n",
    "10. addr_lon"
   ]
  },
  {
   "cell_type": "code",
   "execution_count": 15,
   "metadata": {},
   "outputs": [
    {
     "name": "stderr",
     "output_type": "stream",
     "text": [
      "C:\\Users\\lamtr\\Anaconda3\\lib\\site-packages\\sklearn\\ensemble\\forest.py:246: FutureWarning: The default value of n_estimators will change from 10 in version 0.20 to 100 in 0.22.\n",
      "  \"10 in version 0.20 to 100 in 0.22.\", FutureWarning)\n"
     ]
    },
    {
     "data": {
      "text/plain": [
       "1764292.3148026385"
      ]
     },
     "execution_count": 15,
     "metadata": {},
     "output_type": "execute_result"
    }
   ],
   "source": [
    "feature_cols = [\n",
    "    'bedrooms', 'year_built', 'bathrooms', 'min_to_subway', \n",
    "    'size_sqft', 'no_fee', 'has_doorman', 'floornumber', 'addr_lat', 'addr_lon'\n",
    "]\n",
    "train_features = train_df[feature_cols] \n",
    "\n",
    "# impute missing values with medians\n",
    "train_features = train_features.fillna(train_features.median(), axis=0)\n",
    "\n",
    "# construct target vector\n",
    "train_target = train_df['rent']\n",
    "\n",
    "lreg = LinearRegression()\n",
    "lreg.fit(train_features, train_target)\n",
    "\n",
    "rf = RandomForestRegressor()\n",
    "rf.fit(train_features, train_target)\n",
    "\n",
    "test_features = test_df[feature_cols] \n",
    "\n",
    "# impute missing values with medians\n",
    "test_features = test_features.fillna(train_features.median(), axis=0)\n",
    "\n",
    "# construct predictions \n",
    "test_df['predicted'] = rf.predict(test_features)\n",
    "\n",
    "mean_squared_error(test_df['rent'], test_df['predicted'])"
   ]
  },
  {
   "cell_type": "markdown",
   "metadata": {},
   "source": [
    "### Impute 'bedrooms' with mean"
   ]
  },
  {
   "cell_type": "code",
   "execution_count": 16,
   "metadata": {},
   "outputs": [],
   "source": [
    "#Impute \"bedrooms\"\n",
    "train_df['bedrooms'].replace(0, np.nan, inplace= True)\n",
    "mean_value=train_df['bedrooms'].mean()\n",
    "train_df['bedrooms']=train_df['bedrooms'].fillna(mean_value)"
   ]
  },
  {
   "cell_type": "code",
   "execution_count": 17,
   "metadata": {},
   "outputs": [
    {
     "name": "stderr",
     "output_type": "stream",
     "text": [
      "C:\\Users\\lamtr\\Anaconda3\\lib\\site-packages\\sklearn\\ensemble\\forest.py:246: FutureWarning: The default value of n_estimators will change from 10 in version 0.20 to 100 in 0.22.\n",
      "  \"10 in version 0.20 to 100 in 0.22.\", FutureWarning)\n"
     ]
    },
    {
     "data": {
      "text/plain": [
       "1815886.329065073"
      ]
     },
     "execution_count": 17,
     "metadata": {},
     "output_type": "execute_result"
    }
   ],
   "source": [
    "feature_cols = [\n",
    "    'bedrooms', 'year_built', 'bathrooms', 'min_to_subway', \n",
    "    'size_sqft', 'no_fee', 'has_doorman', 'floornumber', 'addr_lat', 'addr_lon'\n",
    "]\n",
    "train_features = train_df[feature_cols] \n",
    "\n",
    "# impute missing values with medians\n",
    "train_features = train_features.fillna(train_features.median(), axis=0)\n",
    "\n",
    "# construct target vector\n",
    "train_target = train_df['rent']\n",
    "\n",
    "lreg = LinearRegression()\n",
    "lreg.fit(train_features, train_target)\n",
    "\n",
    "rf = RandomForestRegressor()\n",
    "rf.fit(train_features, train_target)\n",
    "\n",
    "test_features = test_df[feature_cols] \n",
    "\n",
    "# impute missing values with medians\n",
    "test_features = test_features.fillna(train_features.median(), axis=0)\n",
    "\n",
    "# construct predictions \n",
    "test_df['predicted'] = rf.predict(test_features)\n",
    "\n",
    "mean_squared_error(test_df['rent'], test_df['predicted'])"
   ]
  },
  {
   "cell_type": "code",
   "execution_count": null,
   "metadata": {},
   "outputs": [],
   "source": []
  },
  {
   "cell_type": "code",
   "execution_count": 18,
   "metadata": {},
   "outputs": [
    {
     "name": "stderr",
     "output_type": "stream",
     "text": [
      "C:\\Users\\lamtr\\Anaconda3\\lib\\site-packages\\sklearn\\ensemble\\forest.py:246: FutureWarning: The default value of n_estimators will change from 10 in version 0.20 to 100 in 0.22.\n",
      "  \"10 in version 0.20 to 100 in 0.22.\", FutureWarning)\n"
     ]
    },
    {
     "data": {
      "text/plain": [
       "1768734.1212864988"
      ]
     },
     "execution_count": 18,
     "metadata": {},
     "output_type": "execute_result"
    }
   ],
   "source": [
    "feature_cols = [\n",
    "    'bedrooms', 'year_built', 'bathrooms', 'min_to_subway', \n",
    "    'size_sqft', 'no_fee', 'has_doorman', 'floornumber', \n",
    "    'addr_lat', 'addr_lon', 'addr_zip', 'has_gym',\n",
    "    'has_washer_dryer', 'has_garage'\n",
    "]\n",
    "train_features = train_df[feature_cols] \n",
    "\n",
    "# impute missing values with medians\n",
    "train_features = train_features.fillna(train_features.median(), axis=0)\n",
    "\n",
    "# construct target vector\n",
    "train_target = train_df['rent']\n",
    "\n",
    "lreg = LinearRegression()\n",
    "lreg.fit(train_features, train_target)\n",
    "\n",
    "rf = RandomForestRegressor()\n",
    "rf.fit(train_features, train_target)\n",
    "\n",
    "test_features = test_df[feature_cols] \n",
    "\n",
    "# impute missing values with medians\n",
    "test_features = test_features.fillna(train_features.median(), axis=0)\n",
    "\n",
    "# construct predictions \n",
    "test_df['predicted'] = rf.predict(test_features)\n",
    "\n",
    "mean_squared_error(test_df['rent'], test_df['predicted'])"
   ]
  },
  {
   "cell_type": "code",
   "execution_count": null,
   "metadata": {},
   "outputs": [],
   "source": []
  }
 ],
 "metadata": {
  "kernelspec": {
   "display_name": "Python 3",
   "language": "python",
   "name": "python3"
  },
  "language_info": {
   "codemirror_mode": {
    "name": "ipython",
    "version": 3
   },
   "file_extension": ".py",
   "mimetype": "text/x-python",
   "name": "python",
   "nbconvert_exporter": "python",
   "pygments_lexer": "ipython3",
   "version": "3.7.3"
  }
 },
 "nbformat": 4,
 "nbformat_minor": 2
}
